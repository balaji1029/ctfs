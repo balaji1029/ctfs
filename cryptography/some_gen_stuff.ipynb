{
 "cells": [
  {
   "cell_type": "code",
   "execution_count": 1,
   "metadata": {},
   "outputs": [
    {
     "name": "stdout",
     "output_type": "stream",
     "text": [
      "crypto{You_will_be_working_with_hex_strings_a_lot}\n"
     ]
    }
   ],
   "source": [
    "text = '63727970746f7b596f755f77696c6c5f62655f776f726b696e675f776974685f6865785f737472696e67735f615f6c6f747d'\n",
    "\n",
    "print(bytes.fromhex(text).decode('utf-8'))"
   ]
  },
  {
   "cell_type": "code",
   "execution_count": 2,
   "metadata": {},
   "outputs": [
    {
     "name": "stdout",
     "output_type": "stream",
     "text": [
      "crypto/Base+64+Encoding+is+Web+Safe/\n"
     ]
    }
   ],
   "source": [
    "import base64\n",
    "\n",
    "text = '72bca9b68fc16ac7beeb8f849dca1d8a783e8acf9679bf9269f7bf'\n",
    "\n",
    "print(base64.b64encode(bytes.fromhex(text)).decode('utf-8'))"
   ]
  },
  {
   "cell_type": "code",
   "execution_count": 3,
   "metadata": {},
   "outputs": [
    {
     "name": "stdout",
     "output_type": "stream",
     "text": [
      "crypto{3nc0d1n6_4ll_7h3_w4y_d0wn}\n"
     ]
    }
   ],
   "source": [
    "from Crypto.Util.number import *\n",
    "\n",
    "text = 11515195063862318899931685488813747395775516287289682636499965282714637259206269\n",
    "\n",
    "print(long_to_bytes(text).decode('utf-8'))"
   ]
  },
  {
   "cell_type": "code",
   "execution_count": 4,
   "metadata": {},
   "outputs": [
    {
     "name": "stdout",
     "output_type": "stream",
     "text": [
      "aloha\n",
      "b'aloha'\n"
     ]
    },
    {
     "name": "stderr",
     "output_type": "stream",
     "text": [
      "/home/balaji/.local/lib/python3.10/site-packages/pwnlib/util/fiddling.py:327: BytesWarning: Text is not bytes; assuming ASCII, no guarantees. See https://docs.pwntools.com/#bytes\n",
      "  strs = [packing.flat(s, word_size = 8, sign = False, endianness = 'little') for s in args]\n"
     ]
    }
   ],
   "source": [
    "text = 'label'\n",
    "\n",
    "first_step = [chr(ord(i)^13) for i in text]\n",
    "\n",
    "import pwn\n",
    "\n",
    "print(''.join(first_step))\n",
    "\n",
    "print(pwn.xor(text, 13))"
   ]
  },
  {
   "cell_type": "code",
   "execution_count": 6,
   "metadata": {},
   "outputs": [
    {
     "name": "stdout",
     "output_type": "stream",
     "text": [
      "crypto{x0r_i5_ass0c1at1v3}\n"
     ]
    }
   ],
   "source": [
    "import pwn\n",
    "\n",
    "# KEY1 = a6c8b6733c9b22de7bc0253266a3867df55acde8635e19c73313\n",
    "# KEY2 ^ KEY1 = 37dcb292030faa90d07eec17e3b1c6d8daf94c35d4c9191a5e1e\n",
    "# KEY2 ^ KEY3 = c1545756687e7573db23aa1c3452a098b71a7fbf0fddddde5fc1\n",
    "# FLAG ^ KEY1 ^ KEY3 ^ KEY2 = 04ee9855208a2cd59091d04767ae47963170d1660df7f56f5faf\n",
    "\n",
    "key1 = bytes.fromhex('a6c8b6733c9b22de7bc0253266a3867df55acde8635e19c73313')\n",
    "key2 = pwn.xor(bytes.fromhex('37dcb292030faa90d07eec17e3b1c6d8daf94c35d4c9191a5e1e'), key1)\n",
    "key3 = pwn.xor(bytes.fromhex('c1545756687e7573db23aa1c3452a098b71a7fbf0fddddde5fc1'), key2)\n",
    "flag = pwn.xor(pwn.xor(pwn.xor(bytes.fromhex('04ee9855208a2cd59091d04767ae47963170d1660df7f56f5faf'), key1), key2), key3)\n",
    "print(flag.decode('utf-8'))"
   ]
  },
  {
   "cell_type": "code",
   "execution_count": 15,
   "metadata": {},
   "outputs": [
    {
     "name": "stdout",
     "output_type": "stream",
     "text": [
      "crypto{0x10_15_my_f4v0ur173_by7e}\n"
     ]
    }
   ],
   "source": [
    "text = '73626960647f6b206821204f21254f7d694f7624662065622127234f726927756d'\n",
    "for i in range(256):\n",
    "    try:\n",
    "        flag = pwn.xor(bytes.fromhex(text), i).decode('utf-8')\n",
    "        if 'crypto' in flag:\n",
    "            print(flag)\n",
    "        # print(pwn.xor(bytes.fromhex(text), i).decode('utf-8'))\n",
    "    except:\n",
    "        pass\n",
    "# bytes.fromhex(text)"
   ]
  },
  {
   "cell_type": "code",
   "execution_count": 9,
   "metadata": {},
   "outputs": [],
   "source": [
    "text = '0e0b213f26041e480b26217f27342e175d0e070a3c5b103e2526217f27342e175d0e077e263451150104'\n",
    "\n",
    "some = bytes.fromhex(text)[0]^ord('c'), bytes.fromhex(text)[1]^ord('r'), bytes.fromhex(text)[2]^ord('y'), bytes.fromhex(text)[3]^ord('p'), bytes.fromhex(text)[4]^ord('t'), bytes.fromhex(text)[5]^ord('o'), bytes.fromhex(text)[6]^ord('{')"
   ]
  },
  {
   "cell_type": "code",
   "execution_count": 11,
   "metadata": {},
   "outputs": [
    {
     "name": "stdout",
     "output_type": "stream",
     "text": [
      "myXORke\n"
     ]
    }
   ],
   "source": [
    "print(bytes(some).decode('utf-8'))"
   ]
  },
  {
   "cell_type": "code",
   "execution_count": 15,
   "metadata": {},
   "outputs": [
    {
     "name": "stdout",
     "output_type": "stream",
     "text": [
      "crypto{1f_y0u_Kn0w_En0uGH_y0u_Kn0w_1t_4ll}"
     ]
    },
    {
     "name": "stderr",
     "output_type": "stream",
     "text": [
      "/home/balaji/.local/lib/python3.10/site-packages/pwnlib/util/fiddling.py:327: BytesWarning: Text is not bytes; assuming ASCII, no guarantees. See https://docs.pwntools.com/#bytes\n",
      "  strs = [packing.flat(s, word_size = 8, sign = False, endianness = 'little') for s in args]\n"
     ]
    }
   ],
   "source": [
    "import pwn\n",
    "key = 'myXORkey'\n",
    "for i in range(len(bytes.fromhex(text))):\n",
    "    print(pwn.xor(bytes.fromhex(text)[i], key[i%len(key)]).decode('utf-8'), end='')"
   ]
  },
  {
   "cell_type": "code",
   "execution_count": null,
   "metadata": {},
   "outputs": [],
   "source": []
  }
 ],
 "metadata": {
  "kernelspec": {
   "display_name": "Python 3",
   "language": "python",
   "name": "python3"
  },
  "language_info": {
   "codemirror_mode": {
    "name": "ipython",
    "version": 3
   },
   "file_extension": ".py",
   "mimetype": "text/x-python",
   "name": "python",
   "nbconvert_exporter": "python",
   "pygments_lexer": "ipython3",
   "version": "3.10.12"
  }
 },
 "nbformat": 4,
 "nbformat_minor": 2
}
